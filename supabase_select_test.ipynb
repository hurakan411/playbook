{
 "cells": [
  {
   "cell_type": "markdown",
   "id": "f660be5d",
   "metadata": {},
   "source": [
    "# SupabaseテーブルのSELECTテスト\n",
    "\n",
    "このノートブックでは、PythonからSupabaseのstoriesテーブルにアクセスし、データをselectできるかを検証します。"
   ]
  },
  {
   "cell_type": "markdown",
   "id": "23222b01",
   "metadata": {},
   "source": [
    "## 1. 必要なライブラリのインストール\n",
    "\n",
    "Python用Supabaseクライアント（supabase-py）をインストールします。"
   ]
  },
  {
   "cell_type": "code",
   "execution_count": 1,
   "id": "8e54eab6",
   "metadata": {},
   "outputs": [
    {
     "name": "stdout",
     "output_type": "stream",
     "text": [
      "Requirement already satisfied: supabase in ./.venv/lib/python3.13/site-packages (2.18.1)\n",
      "Requirement already satisfied: postgrest==1.1.1 in ./.venv/lib/python3.13/site-packages (from supabase) (1.1.1)\n",
      "Requirement already satisfied: realtime==2.7.0 in ./.venv/lib/python3.13/site-packages (from supabase) (2.7.0)\n",
      "Requirement already satisfied: supabase-auth==2.12.3 in ./.venv/lib/python3.13/site-packages (from supabase) (2.12.3)\n",
      "Requirement already satisfied: storage3==0.12.1 in ./.venv/lib/python3.13/site-packages (from supabase) (0.12.1)\n",
      "Requirement already satisfied: supabase-functions==0.10.1 in ./.venv/lib/python3.13/site-packages (from supabase) (0.10.1)\n",
      "Requirement already satisfied: httpx<0.29,>=0.26 in ./.venv/lib/python3.13/site-packages (from supabase) (0.28.1)\n",
      "Requirement already satisfied: deprecation<3.0.0,>=2.1.0 in ./.venv/lib/python3.13/site-packages (from postgrest==1.1.1->supabase) (2.1.0)\n",
      "Requirement already satisfied: pydantic<3.0,>=1.9 in ./.venv/lib/python3.13/site-packages (from postgrest==1.1.1->supabase) (2.11.7)\n",
      "Requirement already satisfied: typing-extensions>=4.14.0 in ./.venv/lib/python3.13/site-packages (from realtime==2.7.0->supabase) (4.15.0)\n",
      "Requirement already satisfied: websockets<16,>=11 in ./.venv/lib/python3.13/site-packages (from realtime==2.7.0->supabase) (15.0.1)\n",
      "Requirement already satisfied: python-dateutil<3.0.0,>=2.8.2 in ./.venv/lib/python3.13/site-packages (from storage3==0.12.1->supabase) (2.9.0.post0)\n",
      "Requirement already satisfied: pyjwt<3.0.0,>=2.10.1 in ./.venv/lib/python3.13/site-packages (from supabase-auth==2.12.3->supabase) (2.10.1)\n",
      "Requirement already satisfied: strenum<0.5.0,>=0.4.15 in ./.venv/lib/python3.13/site-packages (from supabase-functions==0.10.1->supabase) (0.4.15)\n",
      "Requirement already satisfied: packaging in ./.venv/lib/python3.13/site-packages (from deprecation<3.0.0,>=2.1.0->postgrest==1.1.1->supabase) (25.0)\n",
      "Requirement already satisfied: anyio in ./.venv/lib/python3.13/site-packages (from httpx<0.29,>=0.26->supabase) (4.10.0)\n",
      "Requirement already satisfied: certifi in ./.venv/lib/python3.13/site-packages (from httpx<0.29,>=0.26->supabase) (2025.8.3)\n",
      "Requirement already satisfied: httpcore==1.* in ./.venv/lib/python3.13/site-packages (from httpx<0.29,>=0.26->supabase) (1.0.9)\n",
      "Requirement already satisfied: idna in ./.venv/lib/python3.13/site-packages (from httpx<0.29,>=0.26->supabase) (3.10)\n",
      "Requirement already satisfied: h11>=0.16 in ./.venv/lib/python3.13/site-packages (from httpcore==1.*->httpx<0.29,>=0.26->supabase) (0.16.0)\n",
      "Requirement already satisfied: h2<5,>=3 in ./.venv/lib/python3.13/site-packages (from httpx[http2]<0.29,>=0.26->postgrest==1.1.1->supabase) (4.3.0)\n",
      "Requirement already satisfied: hyperframe<7,>=6.1 in ./.venv/lib/python3.13/site-packages (from h2<5,>=3->httpx[http2]<0.29,>=0.26->postgrest==1.1.1->supabase) (6.1.0)\n",
      "Requirement already satisfied: hpack<5,>=4.1 in ./.venv/lib/python3.13/site-packages (from h2<5,>=3->httpx[http2]<0.29,>=0.26->postgrest==1.1.1->supabase) (4.1.0)\n",
      "Requirement already satisfied: annotated-types>=0.6.0 in ./.venv/lib/python3.13/site-packages (from pydantic<3.0,>=1.9->postgrest==1.1.1->supabase) (0.7.0)\n",
      "Requirement already satisfied: pydantic-core==2.33.2 in ./.venv/lib/python3.13/site-packages (from pydantic<3.0,>=1.9->postgrest==1.1.1->supabase) (2.33.2)\n",
      "Requirement already satisfied: typing-inspection>=0.4.0 in ./.venv/lib/python3.13/site-packages (from pydantic<3.0,>=1.9->postgrest==1.1.1->supabase) (0.4.1)\n",
      "Requirement already satisfied: six>=1.5 in ./.venv/lib/python3.13/site-packages (from python-dateutil<3.0.0,>=2.8.2->storage3==0.12.1->supabase) (1.17.0)\n",
      "Requirement already satisfied: sniffio>=1.1 in ./.venv/lib/python3.13/site-packages (from anyio->httpx<0.29,>=0.26->supabase) (1.3.1)\n"
     ]
    }
   ],
   "source": [
    "# supabase-pyのインストール\n",
    "!pip install supabase\n"
   ]
  },
  {
   "cell_type": "markdown",
   "id": "5dc56691",
   "metadata": {},
   "source": [
    "## 2. Supabaseクライアントのセットアップ\n",
    "\n",
    "SupabaseのURLとAPIキーを使ってクライアントを初期化します。"
   ]
  },
  {
   "cell_type": "code",
   "execution_count": 4,
   "id": "c0b7d44d",
   "metadata": {},
   "outputs": [],
   "source": [
    "from supabase import create_client, Client\n",
    "\n",
    "# ここに自分のSupabaseプロジェクトのURLとAPIキーを入力してください\n",
    "SUPABASE_URL = \"https://qoekabfukkdfnkdcnlbk.supabase.co\"  # 例\n",
    "SUPABASE_KEY = \"sb_secret_reyzMNhK0Wf8vN3xjAMIdw_XbP4A_aO\"  # 例\n",
    "\n",
    "\n",
    "supabase: Client = create_client(SUPABASE_URL, SUPABASE_KEY)\n"
   ]
  },
  {
   "cell_type": "markdown",
   "id": "43bbb6a4",
   "metadata": {},
   "source": [
    "## 3. テーブルのデータをセレクトするクエリの実行\n",
    "\n",
    "storiesテーブルから全件データを取得します。"
   ]
  },
  {
   "cell_type": "code",
   "execution_count": 5,
   "id": "6c07f20b",
   "metadata": {},
   "outputs": [
    {
     "name": "stdout",
     "output_type": "stream",
     "text": [
      "[{'id': '46c6978d-be1e-4d9a-a8af-0189e074d43d', 'title': '貝殻のぽんぽんの冒険', 'total_pages': 5, 'art_style': 'クレヨン', 'main_character_name': 'ぽんぽん', 'target_age': '5-7', 'user_id': '010e8400-e29b-41d4-a716-446655440000', 'created_at': '2025-09-08T07:18:11.3085+00:00', 'updated_at': '2025-09-08T07:18:11.3085+00:00', 'current_page': 1, 'is_complete': False}, {'id': '6e17621d-b86a-4b30-ac3c-a5895e975589', 'title': 'ウサギの冒険', 'total_pages': 8, 'art_style': '水彩画', 'main_character_name': 'たける', 'target_age': '5-7', 'user_id': '550e8400-e29b-41d4-a716-446655440000', 'created_at': '2025-09-07T11:21:03.947354+00:00', 'updated_at': '2025-09-07T11:21:03.947354+00:00', 'current_page': 0, 'is_complete': False}, {'id': '5a21795a-5964-4eea-9931-380885407e02', 'title': 'ウサギの冒険', 'total_pages': 8, 'art_style': '水彩画', 'main_character_name': 'たける', 'target_age': '5-7', 'user_id': '550e8400-e29b-41d4-a716-446655440000', 'created_at': '2025-09-07T11:44:47.600305+00:00', 'updated_at': '2025-09-07T11:44:47.600305+00:00', 'current_page': 1, 'is_complete': False}, {'id': '404250a9-7ef3-4944-9eff-957310221342', 'title': 'ウサギの冒険', 'total_pages': 8, 'art_style': '水彩画', 'main_character_name': 'たける', 'target_age': '5-7', 'user_id': '550e8400-e29b-41d4-a716-446655440000', 'created_at': '2025-09-07T11:58:46.533271+00:00', 'updated_at': '2025-09-07T11:58:46.533271+00:00', 'current_page': 2, 'is_complete': False}, {'id': '9a751730-1c2c-476f-a2bd-9dbdf4c06cb3', 'title': 'うさぎのぽんぽんの冒険', 'total_pages': 5, 'art_style': 'watercolor', 'main_character_name': 'ぽんぽん', 'target_age': '5-7', 'user_id': '550e8400-e29b-41d4-a716-446655440000', 'created_at': '2025-09-07T12:33:33.905002+00:00', 'updated_at': '2025-09-07T12:33:33.905002+00:00', 'current_page': 1, 'is_complete': False}, {'id': '0a561c2e-ba11-4fca-a435-a42798cb980a', 'title': 'うさぎのぽんぽんの冒険', 'total_pages': 5, 'art_style': 'watercolor', 'main_character_name': 'ぽんぽん', 'target_age': '5-7', 'user_id': '550e8400-e29b-41d4-a716-446655440000', 'created_at': '2025-09-07T12:42:32.1455+00:00', 'updated_at': '2025-09-07T12:42:32.1455+00:00', 'current_page': 1, 'is_complete': False}, {'id': '7e9b81aa-8e9d-4796-aeb7-411c643f7bc1', 'title': 'うさぎのぽんぽんの冒険', 'total_pages': 5, 'art_style': 'watercolor', 'main_character_name': 'ぽんぽん', 'target_age': '5-7', 'user_id': '660e8400-e29b-41d4-a716-446655440000', 'created_at': '2025-09-07T12:47:18.735599+00:00', 'updated_at': '2025-09-07T12:47:18.735599+00:00', 'current_page': 1, 'is_complete': False}, {'id': '7160001a-1b9d-4996-9256-6b4ef1df0392', 'title': 'うさぎのぽんぽんの冒険', 'total_pages': 5, 'art_style': 'watercolor', 'main_character_name': 'ぽんぽん', 'target_age': '5-7', 'user_id': '660e8400-e29b-41d4-a716-446655440000', 'created_at': '2025-09-07T12:52:03.474712+00:00', 'updated_at': '2025-09-07T12:52:03.474712+00:00', 'current_page': 1, 'is_complete': False}, {'id': '12d5de06-9211-4673-9452-77e0f42c7628', 'title': 'うさぎのぽんぽんの冒険', 'total_pages': 5, 'art_style': 'watercolor', 'main_character_name': 'ぽんぽん', 'target_age': '5-7', 'user_id': '660e8400-e29b-41d4-a716-446655440000', 'created_at': '2025-09-07T13:00:37.89091+00:00', 'updated_at': '2025-09-07T13:00:37.89091+00:00', 'current_page': 2, 'is_complete': False}, {'id': '4808ba94-a470-4db8-8f5c-701b02a653f8', 'title': '貝殻のぽんぽんの冒険', 'total_pages': 5, 'art_style': 'watercolor', 'main_character_name': 'ぽんぽん', 'target_age': '5-7', 'user_id': '760e8400-e29b-41d4-a716-446655440000', 'created_at': '2025-09-07T13:45:51.968923+00:00', 'updated_at': '2025-09-07T13:45:51.968923+00:00', 'current_page': 3, 'is_complete': False}, {'id': '571b15b0-fedd-4534-b497-1fcdd222dde4', 'title': '貝殻のぽんぽんの冒険', 'total_pages': 5, 'art_style': 'watercolor', 'main_character_name': 'ぽんぽん', 'target_age': '5-7', 'user_id': '860e8400-e29b-41d4-a716-446655440000', 'created_at': '2025-09-07T14:10:09.54088+00:00', 'updated_at': '2025-09-07T14:10:09.54088+00:00', 'current_page': 2, 'is_complete': False}, {'id': '059f47ef-d5f1-40ea-9a47-1cd2c2142885', 'title': '貝殻のぽんぽんの冒険', 'total_pages': 5, 'art_style': 'watercolor', 'main_character_name': 'ぽんぽん', 'target_age': '5-7', 'user_id': '960e8400-e29b-41d4-a716-446655440000', 'created_at': '2025-09-07T14:19:59.25409+00:00', 'updated_at': '2025-09-07T14:19:59.25409+00:00', 'current_page': 1, 'is_complete': False}, {'id': '8e6997e5-15c3-42a1-92f3-4d2a9ff2e857', 'title': '貝殻のぽんぽんの冒険', 'total_pages': 5, 'art_style': 'watercolor', 'main_character_name': 'ぽんぽん', 'target_age': '5-7', 'user_id': '960e8400-e29b-41d4-a716-446655440000', 'created_at': '2025-09-08T05:03:04.6092+00:00', 'updated_at': '2025-09-08T05:03:04.6092+00:00', 'current_page': 2, 'is_complete': False}, {'id': '35a4f074-4177-410e-a453-387d0bd2c5c7', 'title': '貝殻のぽんぽんの冒険', 'total_pages': 5, 'art_style': 'watercolor', 'main_character_name': 'ぽんぽん', 'target_age': '5-7', 'user_id': '160e8400-e29b-41d4-a716-446655440000', 'created_at': '2025-09-08T05:20:00.444686+00:00', 'updated_at': '2025-09-08T05:20:00.444686+00:00', 'current_page': 1, 'is_complete': False}, {'id': '36e4c898-8f0a-4f0f-a7ad-73f0c3e5c898', 'title': '貝殻のぽんぽんの冒険', 'total_pages': 5, 'art_style': 'watercolor', 'main_character_name': 'ぽんぽん', 'target_age': '5-7', 'user_id': '160e8400-e29b-41d4-a716-446655440000', 'created_at': '2025-09-08T05:21:37.719169+00:00', 'updated_at': '2025-09-08T05:21:37.719169+00:00', 'current_page': 1, 'is_complete': False}, {'id': '77819552-b2df-4d1e-8335-a7f3aa1dab96', 'title': '貝殻のぽんぽんの冒険', 'total_pages': 5, 'art_style': 'watercolor', 'main_character_name': 'ぽんぽん', 'target_age': '5-7', 'user_id': '160e8400-e29b-41d4-a716-446655440000', 'created_at': '2025-09-08T05:22:10.568938+00:00', 'updated_at': '2025-09-08T05:22:10.568938+00:00', 'current_page': 1, 'is_complete': False}, {'id': '235896a8-673c-47dc-bf9c-be54df374692', 'title': '貝殻のぽんぽんの冒険', 'total_pages': 5, 'art_style': 'watercolor', 'main_character_name': 'ぽんぽん', 'target_age': '5-7', 'user_id': '160e8400-e29b-41d4-a716-446655440000', 'created_at': '2025-09-08T05:22:31.962031+00:00', 'updated_at': '2025-09-08T05:22:31.962031+00:00', 'current_page': 1, 'is_complete': False}, {'id': '1f08c4c7-32dd-4184-ba65-7d5e74396528', 'title': '貝殻のぽんぽんの冒険', 'total_pages': 5, 'art_style': 'watercolor', 'main_character_name': 'ぽんぽん', 'target_age': '5-7', 'user_id': '160e8400-e29b-41d4-a716-446655440000', 'created_at': '2025-09-08T05:22:46.471989+00:00', 'updated_at': '2025-09-08T05:22:46.471989+00:00', 'current_page': 1, 'is_complete': False}, {'id': 'e0c1b37a-eeb8-4460-9a38-37703ce6d9d9', 'title': '貝殻のぽんぽんの冒険', 'total_pages': 5, 'art_style': 'watercolor', 'main_character_name': 'ぽんぽん', 'target_age': '5-7', 'user_id': '160e8400-e29b-41d4-a716-446655440000', 'created_at': '2025-09-08T05:23:49.057204+00:00', 'updated_at': '2025-09-08T05:23:49.057204+00:00', 'current_page': 1, 'is_complete': False}, {'id': 'a6ab6bdb-5261-430a-a0ff-24ef55802a07', 'title': '貝殻のぽんぽんの冒険', 'total_pages': 5, 'art_style': 'watercolor', 'main_character_name': 'ぽんぽん', 'target_age': '5-7', 'user_id': '160e8400-e29b-41d4-a716-446655440000', 'created_at': '2025-09-08T05:25:17.633821+00:00', 'updated_at': '2025-09-08T05:25:17.633821+00:00', 'current_page': 1, 'is_complete': False}, {'id': 'ca8c0ef9-ed46-4f26-a714-c782bd66c383', 'title': '貝殻のぽんぽんの冒険', 'total_pages': 5, 'art_style': 'watercolor', 'main_character_name': 'ぽんぽん', 'target_age': '5-7', 'user_id': '160e8400-e29b-41d4-a716-446655440000', 'created_at': '2025-09-08T05:26:04.292267+00:00', 'updated_at': '2025-09-08T05:26:04.292267+00:00', 'current_page': 1, 'is_complete': False}, {'id': 'df30924a-42e1-47b4-b089-805d6560941a', 'title': '貝殻のぽんぽんの冒険', 'total_pages': 5, 'art_style': 'watercolor', 'main_character_name': 'ぽんぽん', 'target_age': '5-7', 'user_id': '160e8400-e29b-41d4-a716-446655440000', 'created_at': '2025-09-08T05:27:42.750892+00:00', 'updated_at': '2025-09-08T05:27:42.750892+00:00', 'current_page': 2, 'is_complete': False}, {'id': '2f1bcd4d-0be5-40f9-ade1-91e49230d9f9', 'title': '貝殻のぽんぽんの冒険', 'total_pages': 5, 'art_style': 'クレヨン風', 'main_character_name': 'ぽんぽん', 'target_age': '5-7', 'user_id': '260e8400-e29b-41d4-a716-446655440000', 'created_at': '2025-09-08T05:46:47.848762+00:00', 'updated_at': '2025-09-08T05:46:47.848762+00:00', 'current_page': 1, 'is_complete': False}, {'id': 'f19ad3ef-9ec4-4e79-a5f4-94dfcf0e79e5', 'title': '貝殻のぽんぽんの冒険', 'total_pages': 5, 'art_style': 'クレヨン風', 'main_character_name': 'ぽんぽん', 'target_age': '5-7', 'user_id': '260e8400-e29b-41d4-a716-446655440000', 'created_at': '2025-09-08T05:51:45.691977+00:00', 'updated_at': '2025-09-08T05:51:45.691977+00:00', 'current_page': 1, 'is_complete': False}, {'id': '04f151ec-4543-4518-a7df-08c46ebed376', 'title': '貝殻のぽんぽんの冒険', 'total_pages': 5, 'art_style': 'watercolor', 'main_character_name': 'ぽんぽん', 'target_age': '5-7', 'user_id': '260e8400-e29b-41d4-a716-446655440000', 'created_at': '2025-09-08T05:52:20.026827+00:00', 'updated_at': '2025-09-08T05:52:20.026827+00:00', 'current_page': 1, 'is_complete': False}, {'id': '7e4be3a8-5505-427d-a358-0f0ebfb4ef1c', 'title': '貝殻のぽんぽんの冒険', 'total_pages': 5, 'art_style': 'クレヨン風', 'main_character_name': 'ぽんぽん', 'target_age': '5-7', 'user_id': '260e8400-e29b-41d4-a716-446655440000', 'created_at': '2025-09-08T05:55:26.348336+00:00', 'updated_at': '2025-09-08T05:55:26.348336+00:00', 'current_page': 1, 'is_complete': False}, {'id': '4879de93-82fb-4397-9bc0-8bc2538ea73c', 'title': '貝殻のぽんぽんの冒険', 'total_pages': 5, 'art_style': 'watercolor', 'main_character_name': 'ぽんぽん', 'target_age': '5-7', 'user_id': '260e8400-e29b-41d4-a716-446655440000', 'created_at': '2025-09-08T05:56:03.047867+00:00', 'updated_at': '2025-09-08T05:56:03.047867+00:00', 'current_page': 1, 'is_complete': False}, {'id': '6057a6f9-e1ae-4891-84da-93dede137c6e', 'title': '貝殻のぽんぽんの冒険', 'total_pages': 5, 'art_style': 'クレヨン風', 'main_character_name': 'ぽんぽん', 'target_age': '5-7', 'user_id': '260e8400-e29b-41d4-a716-446655440000', 'created_at': '2025-09-08T05:59:48.977413+00:00', 'updated_at': '2025-09-08T05:59:48.977413+00:00', 'current_page': 1, 'is_complete': False}, {'id': 'dcef9215-1bbb-4205-a59a-1b999fdf3eae', 'title': '貝殻のぽんぽんの冒険', 'total_pages': 5, 'art_style': 'クレヨン風', 'main_character_name': 'ぽんぽん', 'target_age': '5-7', 'user_id': '260e8400-e29b-41d4-a716-446655440000', 'created_at': '2025-09-08T06:04:20.127208+00:00', 'updated_at': '2025-09-08T06:04:20.127208+00:00', 'current_page': 1, 'is_complete': False}, {'id': '30b06f40-0d93-4f42-bb27-2b2b89190770', 'title': '貝殻のぽんぽんの冒険', 'total_pages': 5, 'art_style': 'クレヨン風', 'main_character_name': 'ぽんぽん', 'target_age': '5-7', 'user_id': '360e8400-e29b-41d4-a716-446655440000', 'created_at': '2025-09-08T06:06:44.962732+00:00', 'updated_at': '2025-09-08T06:06:44.962732+00:00', 'current_page': 1, 'is_complete': False}, {'id': '36eaf24a-2f4e-457e-a381-7dbb6c6c27d8', 'title': '貝殻のぽんぽんの冒険', 'total_pages': 5, 'art_style': 'ちぎり絵風', 'main_character_name': 'ぽんぽん', 'target_age': '5-7', 'user_id': '460e8400-e29b-41d4-a716-446655440000', 'created_at': '2025-09-08T06:15:43.362717+00:00', 'updated_at': '2025-09-08T06:15:43.362717+00:00', 'current_page': 1, 'is_complete': False}, {'id': '0e0deca6-6190-4678-94df-c47d400b91a2', 'title': '貝殻のぽんぽんの冒険', 'total_pages': 5, 'art_style': '写実風', 'main_character_name': 'ぽんぽん', 'target_age': '5-7', 'user_id': '460e8400-e29b-41d4-a716-446655440000', 'created_at': '2025-09-08T06:17:16.13739+00:00', 'updated_at': '2025-09-08T06:17:16.13739+00:00', 'current_page': 1, 'is_complete': False}, {'id': '47aac8d1-a35d-439a-b20b-d5dc591e7fca', 'title': '貝殻のぽんぽんの冒険', 'total_pages': 5, 'art_style': '写実風', 'main_character_name': 'ぽんぽん', 'target_age': '5-7', 'user_id': '010e8400-e29b-41d4-a716-446655440000', 'created_at': '2025-09-08T06:17:26.993588+00:00', 'updated_at': '2025-09-08T06:17:26.993588+00:00', 'current_page': 1, 'is_complete': False}, {'id': '66a6e437-c8be-4896-900b-0e5b24f8fa48', 'title': '貝殻のぽんぽんの冒険', 'total_pages': 5, 'art_style': 'ポップアート風', 'main_character_name': 'ぽんぽん', 'target_age': '5-7', 'user_id': '010e8400-e29b-41d4-a716-446655440000', 'created_at': '2025-09-08T06:19:06.426282+00:00', 'updated_at': '2025-09-08T06:19:06.426282+00:00', 'current_page': 1, 'is_complete': False}, {'id': '76c7d013-8759-47c7-9015-ad6b59084401', 'title': '貝殻のぽんぽんの冒険', 'total_pages': 5, 'art_style': 'ポップアート風', 'main_character_name': 'ぽんぽん', 'target_age': '5-7', 'user_id': '010e8400-e29b-41d4-a716-446655440000', 'created_at': '2025-09-08T06:21:29.590464+00:00', 'updated_at': '2025-09-08T06:21:29.590464+00:00', 'current_page': 1, 'is_complete': False}, {'id': 'd51723a6-5056-415e-b7e2-caace058cdc0', 'title': '貝殻のぽんぽんの冒険', 'total_pages': 5, 'art_style': 'ゆるキャラ風', 'main_character_name': 'ぽんぽん', 'target_age': '5-7', 'user_id': '010e8400-e29b-41d4-a716-446655440000', 'created_at': '2025-09-08T06:24:30.136145+00:00', 'updated_at': '2025-09-08T06:24:30.136145+00:00', 'current_page': 1, 'is_complete': False}, {'id': '067c5b0e-67b5-4c5c-9415-e6b5d2e04929', 'title': '貝殻のぽんぽんの冒険', 'total_pages': 5, 'art_style': '線画風', 'main_character_name': 'ぽんぽん', 'target_age': '5-7', 'user_id': '010e8400-e29b-41d4-a716-446655440000', 'created_at': '2025-09-08T06:26:17.060078+00:00', 'updated_at': '2025-09-08T06:26:17.060078+00:00', 'current_page': 1, 'is_complete': False}, {'id': 'd2a8b304-1aab-41e5-929d-e48db2a51102', 'title': '貝殻のぽんぽんの冒険', 'total_pages': 5, 'art_style': '切り絵風', 'main_character_name': 'ぽんぽん', 'target_age': '5-7', 'user_id': '010e8400-e29b-41d4-a716-446655440000', 'created_at': '2025-09-08T06:28:35.622133+00:00', 'updated_at': '2025-09-08T06:28:35.622133+00:00', 'current_page': 1, 'is_complete': False}, {'id': '371d60f7-c60f-459c-a52b-b888efbe3c82', 'title': '貝殻のぽんぽんの冒険', 'total_pages': 5, 'art_style': 'クレヨン', 'main_character_name': 'ぽんぽん', 'target_age': '5-7', 'user_id': '010e8400-e29b-41d4-a716-446655440000', 'created_at': '2025-09-08T07:06:36.677095+00:00', 'updated_at': '2025-09-08T07:06:36.677095+00:00', 'current_page': 1, 'is_complete': False}, {'id': 'b208aeac-446b-498d-bf1a-c3723b592401', 'title': 'ふしぎな森のぼうけん', 'total_pages': 4, 'art_style': '水彩', 'main_character_name': 'はると', 'target_age': '5-7', 'user_id': '7da5be7f-c4ab-41c8-b520-5fb4182617f5', 'created_at': '2025-09-08T07:53:28.718128+00:00', 'updated_at': '2025-09-08T07:53:28.718128+00:00', 'current_page': 1, 'is_complete': False}, {'id': 'c6afaf17-88e2-4a74-a0fd-15a80ba3f7c6', 'title': 'ねこのピクニック', 'total_pages': 4, 'art_style': '切り絵', 'main_character_name': 'さくら', 'target_age': '5-7', 'user_id': '7da5be7f-c4ab-41c8-b520-5fb4182617f5', 'created_at': '2025-09-08T08:37:17.90408+00:00', 'updated_at': '2025-09-08T08:37:17.90408+00:00', 'current_page': 1, 'is_complete': False}]\n"
     ]
    }
   ],
   "source": [
    "# storiesテーブルから全件取得\n",
    "response = supabase.table('stories').select('*').execute()\n",
    "\n",
    "# レスポンスの内容を確認\n",
    "records = response.data\n",
    "print(records)"
   ]
  },
  {
   "cell_type": "markdown",
   "id": "4df6d43e",
   "metadata": {},
   "source": [
    "## 4. 取得したデータの表示\n",
    "\n",
    "pandas.DataFrameで表形式で表示する例も紹介します。"
   ]
  },
  {
   "cell_type": "code",
   "execution_count": null,
   "id": "ad77ae9a",
   "metadata": {},
   "outputs": [],
   "source": [
    "# 取得データをpandasで表形式表示（任意）\n",
    "import pandas as pd\n",
    "\n",
    "df = pd.DataFrame(records)\n",
    "df.head()"
   ]
  }
 ],
 "metadata": {
  "kernelspec": {
   "display_name": ".venv",
   "language": "python",
   "name": "python3"
  },
  "language_info": {
   "codemirror_mode": {
    "name": "ipython",
    "version": 3
   },
   "file_extension": ".py",
   "mimetype": "text/x-python",
   "name": "python",
   "nbconvert_exporter": "python",
   "pygments_lexer": "ipython3",
   "version": "3.13.7"
  }
 },
 "nbformat": 4,
 "nbformat_minor": 5
}
